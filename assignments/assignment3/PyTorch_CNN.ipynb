{
  "nbformat": 4,
  "nbformat_minor": 0,
  "metadata": {
    "accelerator": "GPU",
    "colab": {
      "name": "PyTorch_CNN.ipynb",
      "provenance": [],
      "collapsed_sections": []
    },
    "kernelspec": {
      "display_name": "Python 3",
      "language": "python",
      "name": "python3"
    },
    "language_info": {
      "codemirror_mode": {
        "name": "ipython",
        "version": 3
      },
      "file_extension": ".py",
      "mimetype": "text/x-python",
      "name": "python",
      "nbconvert_exporter": "python",
      "pygments_lexer": "ipython3",
      "version": "3.7.0"
    }
  },
  "cells": [
    {
      "cell_type": "markdown",
      "metadata": {
        "id": "37HONrFvVh75",
        "colab_type": "text"
      },
      "source": [
        "# Задание 3.2 - сверточные нейронные сети (CNNs) в PyTorch\n",
        "\n",
        "Это упражнение мы буде выполнять в Google Colab - https://colab.research.google.com/  \n",
        "Google Colab позволяет запускать код в notebook в облаке Google, где можно воспользоваться бесплатным GPU!  \n",
        "\n",
        "Авторы курса благодарят компанию Google и надеятся, что праздник не закончится.\n",
        "\n",
        "Туториал по настройке Google Colab:  \n",
        "https://medium.com/deep-learning-turkey/google-colab-free-gpu-tutorial-e113627b9f5d  \n",
        "(Keras инсталлировать не нужно, наш notebook сам установит PyTorch)\n"
      ]
    },
    {
      "cell_type": "code",
      "metadata": {
        "colab_type": "code",
        "id": "FcXBeP1O7cnY",
        "colab": {
          "base_uri": "https://localhost:8080/",
          "height": 510
        },
        "outputId": "bdc654fe-69e4-4fc1-effe-987470c59bec"
      },
      "source": [
        "# Intstall PyTorch and download data\n",
        "!pip3 install torch torchvision\n",
        "\n",
        "!wget -c http://ufldl.stanford.edu/housenumbers/train_32x32.mat http://ufldl.stanford.edu/housenumbers/test_32x32.mat"
      ],
      "execution_count": 1,
      "outputs": [
        {
          "output_type": "stream",
          "text": [
            "Requirement already satisfied: torch in /usr/local/lib/python3.6/dist-packages (1.4.0)\n",
            "Requirement already satisfied: torchvision in /usr/local/lib/python3.6/dist-packages (0.5.0)\n",
            "Requirement already satisfied: numpy in /usr/local/lib/python3.6/dist-packages (from torchvision) (1.17.5)\n",
            "Requirement already satisfied: pillow>=4.1.1 in /usr/local/lib/python3.6/dist-packages (from torchvision) (6.2.2)\n",
            "Requirement already satisfied: six in /usr/local/lib/python3.6/dist-packages (from torchvision) (1.12.0)\n",
            "--2020-02-20 06:43:56--  http://ufldl.stanford.edu/housenumbers/train_32x32.mat\n",
            "Resolving ufldl.stanford.edu (ufldl.stanford.edu)... 171.64.68.10\n",
            "Connecting to ufldl.stanford.edu (ufldl.stanford.edu)|171.64.68.10|:80... connected.\n",
            "HTTP request sent, awaiting response... 200 OK\n",
            "Length: 182040794 (174M) [text/plain]\n",
            "Saving to: ‘train_32x32.mat’\n",
            "\n",
            "train_32x32.mat     100%[===================>] 173.61M  35.2MB/s    in 5.1s    \n",
            "\n",
            "2020-02-20 06:44:01 (33.7 MB/s) - ‘train_32x32.mat’ saved [182040794/182040794]\n",
            "\n",
            "--2020-02-20 06:44:01--  http://ufldl.stanford.edu/housenumbers/test_32x32.mat\n",
            "Reusing existing connection to ufldl.stanford.edu:80.\n",
            "HTTP request sent, awaiting response... 200 OK\n",
            "Length: 64275384 (61M) [text/plain]\n",
            "Saving to: ‘test_32x32.mat’\n",
            "\n",
            "test_32x32.mat      100%[===================>]  61.30M  19.6MB/s    in 3.1s    \n",
            "\n",
            "2020-02-20 06:44:04 (19.6 MB/s) - ‘test_32x32.mat’ saved [64275384/64275384]\n",
            "\n",
            "FINISHED --2020-02-20 06:44:04--\n",
            "Total wall clock time: 8.4s\n",
            "Downloaded: 2 files, 235M in 8.3s (28.4 MB/s)\n"
          ],
          "name": "stdout"
        }
      ]
    },
    {
      "cell_type": "code",
      "metadata": {
        "colab_type": "code",
        "id": "-afwWw-Q85vD",
        "colab": {}
      },
      "source": [
        "from collections import namedtuple\n",
        "import random\n",
        "\n",
        "import matplotlib.pyplot as plt\n",
        "import numpy as np\n",
        "import PIL\n",
        "import torch\n",
        "import torch.nn as nn\n",
        "import torch.optim as optim\n",
        "from torch.optim import lr_scheduler\n",
        "import torchvision.datasets as dset\n",
        "from torch.utils.data.sampler import SubsetRandomSampler\n",
        "\n",
        "from torchvision import transforms"
      ],
      "execution_count": 0,
      "outputs": []
    },
    {
      "cell_type": "code",
      "metadata": {
        "colab_type": "code",
        "id": "NNU-OD9O9ltP",
        "colab": {}
      },
      "source": [
        "device = torch.device(\"cuda:0\") # Let's make sure GPU is available!"
      ],
      "execution_count": 0,
      "outputs": []
    },
    {
      "cell_type": "markdown",
      "metadata": {
        "id": "AI_OHswVVh8N",
        "colab_type": "text"
      },
      "source": [
        "# Загружаем данные"
      ]
    },
    {
      "cell_type": "code",
      "metadata": {
        "colab_type": "code",
        "id": "YAvkoRx-9FsP",
        "colab": {}
      },
      "source": [
        "# First, lets load the dataset\n",
        "data_train = dset.SVHN('./', \n",
        "                       transform=transforms.Compose([\n",
        "                           transforms.ToTensor(),\n",
        "                           transforms.Normalize(mean=[0.43,0.44,0.47],\n",
        "                                               std=[0.20,0.20,0.20])                           \n",
        "                       ])\n",
        "                      )\n",
        "data_test = dset.SVHN('./', split='test', transform=transforms.Compose([\n",
        "                           transforms.ToTensor(),\n",
        "                           transforms.Normalize(mean=[0.43,0.44,0.47],\n",
        "                                               std=[0.20,0.20,0.20])                           \n",
        "                       ]))"
      ],
      "execution_count": 0,
      "outputs": []
    },
    {
      "cell_type": "markdown",
      "metadata": {
        "id": "xMKSUMJEVh8U",
        "colab_type": "text"
      },
      "source": [
        "Разделяем данные на training и validation.\n",
        "\n",
        "На всякий случай для подробностей - https://pytorch.org/tutorials/beginner/data_loading_tutorial.html"
      ]
    },
    {
      "cell_type": "code",
      "metadata": {
        "colab_type": "code",
        "id": "YRnr8CPg7Hli",
        "colab": {}
      },
      "source": [
        "batch_size = 64\n",
        "\n",
        "data_size = data_train.data.shape[0]\n",
        "validation_split = .2\n",
        "split = int(np.floor(validation_split * data_size))\n",
        "indices = list(range(data_size))\n",
        "np.random.shuffle(indices)\n",
        "\n",
        "train_indices, val_indices = indices[split:], indices[:split]\n",
        "\n",
        "train_sampler = SubsetRandomSampler(train_indices)\n",
        "val_sampler = SubsetRandomSampler(val_indices)\n",
        "\n",
        "train_loader = torch.utils.data.DataLoader(data_train, batch_size=batch_size, \n",
        "                                           sampler=train_sampler)\n",
        "val_loader = torch.utils.data.DataLoader(data_train, batch_size=batch_size,\n",
        "                                         sampler=val_sampler)"
      ],
      "execution_count": 0,
      "outputs": []
    },
    {
      "cell_type": "code",
      "metadata": {
        "colab_type": "code",
        "id": "LyYvt-T67PBG",
        "colab": {}
      },
      "source": [
        "# We'll use a special helper module to shape it into a flat tensor\n",
        "class Flattener(nn.Module):\n",
        "    def forward(self, x):\n",
        "        batch_size, *_ = x.shape\n",
        "        return x.view(batch_size, -1)"
      ],
      "execution_count": 0,
      "outputs": []
    },
    {
      "cell_type": "markdown",
      "metadata": {
        "id": "aPLxHuFvVh8f",
        "colab_type": "text"
      },
      "source": [
        "Создадим простейшую сеть с новыми слоями:  \n",
        "Convolutional - `nn.Conv2d`  \n",
        "MaxPool - `nn.MaxPool2d`"
      ]
    },
    {
      "cell_type": "code",
      "metadata": {
        "colab_type": "code",
        "id": "w9SFVGZP7SQd",
        "colab": {}
      },
      "source": [
        "nn_model = nn.Sequential(\n",
        "            nn.Conv2d(3, 64, 3, padding=1),\n",
        "            nn.ReLU(inplace=True),\n",
        "            nn.MaxPool2d(4),\n",
        "            nn.Conv2d(64, 64, 3, padding=1),\n",
        "            nn.ReLU(inplace=True),\n",
        "            nn.MaxPool2d(4),    \n",
        "            Flattener(),\n",
        "            nn.Linear(64*2*2, 10),\n",
        "          )\n",
        "\n",
        "nn_model.type(torch.cuda.FloatTensor)\n",
        "nn_model.to(device)\n",
        "\n",
        "loss = nn.CrossEntropyLoss().type(torch.cuda.FloatTensor)\n",
        "optimizer = optim.SGD(nn_model.parameters(), lr=1e-1, weight_decay=1e-4)"
      ],
      "execution_count": 0,
      "outputs": []
    },
    {
      "cell_type": "markdown",
      "metadata": {
        "id": "ueZAlPXCVh8k",
        "colab_type": "text"
      },
      "source": [
        "Восстановите функцию `compute_accuracy` из прошлого задания.  \n",
        "Единственное отличие в новом - она должна передать данные на GPU прежде чем прогонять через модель. Сделайте это так же, как это делает функция `train_model`"
      ]
    },
    {
      "cell_type": "code",
      "metadata": {
        "colab_type": "code",
        "id": "2ek3KVQK7hJ6",
        "colab": {
          "base_uri": "https://localhost:8080/",
          "height": 102
        },
        "outputId": "1b8b801c-6fc5-4cd4-b932-fc7ade8085cb"
      },
      "source": [
        "def train_model(model, train_loader, val_loader, loss, optimizer, num_epochs):    \n",
        "    loss_history = []\n",
        "    train_history = []\n",
        "    val_history = []\n",
        "    for epoch in range(num_epochs):\n",
        "        model.train() # Enter train mode\n",
        "        \n",
        "        loss_accum = 0\n",
        "        correct_samples = 0\n",
        "        total_samples = 0\n",
        "        for i_step, (x, y) in enumerate(train_loader):\n",
        "          \n",
        "            x_gpu = x.to(device)\n",
        "            y_gpu = y.to(device)\n",
        "            prediction = model(x_gpu)    \n",
        "            loss_value = loss(prediction, y_gpu)\n",
        "            optimizer.zero_grad()\n",
        "            loss_value.backward()\n",
        "            optimizer.step()\n",
        "            \n",
        "            _, indices = torch.max(prediction, 1)\n",
        "            correct_samples += torch.sum(indices == y_gpu)\n",
        "            total_samples += y.shape[0]\n",
        "            \n",
        "            loss_accum += loss_value\n",
        "\n",
        "        ave_loss = loss_accum / i_step\n",
        "        train_accuracy = float(correct_samples) / total_samples\n",
        "        val_accuracy = compute_accuracy(model, val_loader)\n",
        "        \n",
        "        loss_history.append(float(ave_loss))\n",
        "        train_history.append(train_accuracy)\n",
        "        val_history.append(val_accuracy)\n",
        "        \n",
        "        print(\"Average loss: %f, Train accuracy: %f, Val accuracy: %f\" % (ave_loss, train_accuracy, val_accuracy))\n",
        "        \n",
        "    return loss_history, train_history, val_history\n",
        "        \n",
        "def compute_accuracy(model, loader):\n",
        "    \"\"\"\n",
        "    Computes accuracy on the dataset wrapped in a loader\n",
        "    \n",
        "    Returns: accuracy as a float value between 0 and 1\n",
        "    \"\"\"\n",
        "    model.eval() # Evaluation mode\n",
        "    # TODO: Copy implementation from previous assignment\n",
        "    # Don't forget to move the data to device before running it through the model!\n",
        "    correct_samples = 0\n",
        "    total_samples = 0\n",
        "    for x, y in loader:\n",
        "        x_gpu = x.to(device)\n",
        "        y_gpu = y.to(device)\n",
        "        predictions = model(x_gpu)\n",
        "        indices = torch.argmax(predictions, 1)\n",
        "        correct_samples += torch.sum(indices == y_gpu)\n",
        "        total_samples += y.shape[0]\n",
        "    \n",
        "    return float(correct_samples) / total_samples\n",
        "\n",
        "loss_history, train_history, val_history = train_model(nn_model, train_loader, val_loader, loss, optimizer, 5)"
      ],
      "execution_count": 9,
      "outputs": [
        {
          "output_type": "stream",
          "text": [
            "Average loss: 0.707580, Train accuracy: 0.784561, Val accuracy: 0.815234\n",
            "Average loss: 0.608457, Train accuracy: 0.818432, Val accuracy: 0.823015\n",
            "Average loss: 0.558876, Train accuracy: 0.833242, Val accuracy: 0.845335\n",
            "Average loss: 0.522073, Train accuracy: 0.844402, Val accuracy: 0.845267\n",
            "Average loss: 0.497825, Train accuracy: 0.851551, Val accuracy: 0.840079\n"
          ],
          "name": "stdout"
        }
      ]
    },
    {
      "cell_type": "markdown",
      "metadata": {
        "colab_type": "text",
        "id": "6a-3a1ZFGEw_"
      },
      "source": [
        "# Аугментация данных (Data augmentation)\n",
        "\n",
        "В работе с изображениями одним из особенно важных методов является аугментация данных - то есть, генерация дополнительных данных для тренировки на основе изначальных.   \n",
        "Таким образом, мы получаем возможность \"увеличить\" набор данных для тренировки, что ведет к лучшей работе сети.\n",
        "Важно, чтобы аугментированные данные были похожи на те, которые могут встретиться в реальной жизни, иначе польза от аугментаций уменьшается и может ухудшить работу сети.\n",
        "\n",
        "С PyTorch идут несколько таких алгоритмов, называемых `transforms`. Более подробно про них можно прочитать тут -\n",
        "https://pytorch.org/tutorials/beginner/data_loading_tutorial.html#transforms\n",
        "\n",
        "Ниже мы используем следующие алгоритмы генерации:\n",
        "- ColorJitter - случайное изменение цвета\n",
        "- RandomHorizontalFlip - горизонтальное отражение с вероятностью 50%\n",
        "- RandomVerticalFlip - вертикальное отражение с вероятностью 50%\n",
        "- RandomRotation - случайный поворот"
      ]
    },
    {
      "cell_type": "code",
      "metadata": {
        "colab_type": "code",
        "id": "jCWMUWmr7t5g",
        "colab": {}
      },
      "source": [
        "tfs = transforms.Compose([\n",
        "    transforms.ColorJitter(hue=.50, saturation=.50),\n",
        "    transforms.RandomHorizontalFlip(),\n",
        "    transforms.RandomVerticalFlip(),\n",
        "    transforms.RandomRotation(50, resample=PIL.Image.BILINEAR),\n",
        "    transforms.ToTensor(),\n",
        "    transforms.Normalize(mean=[0.43,0.44,0.47],\n",
        "                       std=[0.20,0.20,0.20])                           \n",
        "])\n",
        "\n",
        "# Create augmented train dataset\n",
        "data_aug_train = dset.SVHN('./', \n",
        "                       transform=tfs\n",
        "                      )\n",
        "\n",
        "train_aug_loader = torch.utils.data.DataLoader(data_aug_train, batch_size=batch_size, \n",
        "                                           sampler=train_sampler)"
      ],
      "execution_count": 0,
      "outputs": []
    },
    {
      "cell_type": "markdown",
      "metadata": {
        "id": "h0c4e8GjVh8w",
        "colab_type": "text"
      },
      "source": [
        "Визуализируем результаты агментации (вообще, смотреть на сгенерированные данные всегда очень полезно)."
      ]
    },
    {
      "cell_type": "code",
      "metadata": {
        "colab_type": "code",
        "id": "YlJJEro1KZ45",
        "colab": {
          "base_uri": "https://localhost:8080/",
          "height": 173
        },
        "outputId": "76d70afe-763e-4fde-df00-54bf14967e00"
      },
      "source": [
        "# TODO: Visualize some augmented images!\n",
        "# hint: you can create new datasets and loaders to accomplish this\n",
        "\n",
        "# Based on the visualizations, should we keep all the augmentations?\n",
        "\n",
        "tfs = transforms.Compose([\n",
        "    transforms.ColorJitter(hue=.20, saturation=.20),\n",
        "    transforms.RandomHorizontalFlip(),\n",
        "    transforms.RandomVerticalFlip(),\n",
        "    transforms.RandomRotation(10, resample=PIL.Image.BILINEAR),\n",
        "])\n",
        "\n",
        "data_aug_vis = dset.SVHN('./', \n",
        "                       transform=tfs\n",
        "                      )\n",
        "\n",
        "plt.figure(figsize=(30, 3))\n",
        "\n",
        "for i, (x, y) in enumerate(data_aug_vis):\n",
        "    if i == 10:\n",
        "        break\n",
        "    plt.subplot(1, 10, i+1)\n",
        "    plt.grid(False)\n",
        "    plt.imshow(x)\n",
        "    plt.axis('off')"
      ],
      "execution_count": 11,
      "outputs": [
        {
          "output_type": "display_data",
          "data": {
            "image/png": "[encoded data removed]",
            "text/plain": [
              "<Figure size 2160x216 with 10 Axes>"
            ]
          },
          "metadata": {
            "tags": []
          }
        }
      ]
    },
    {
      "cell_type": "markdown",
      "metadata": {
        "colab_type": "text",
        "id": "o2LrmsYHoguB"
      },
      "source": [
        "Все ли агментации одинаково полезны на этом наборе данных? Могут ли быть среди них те, которые собьют модель с толку?\n",
        "\n",
        "Выберите из них только корректные"
      ]
    },
    {
      "cell_type": "code",
      "metadata": {
        "colab_type": "code",
        "id": "evro9ksXGs9u",
        "colab": {}
      },
      "source": [
        "# TODO: \n",
        "tfs = transforms.Compose([\n",
        "    transforms.ColorJitter(hue=.50, saturation=.50),\n",
        "    transforms.RandomRotation(50, resample=PIL.Image.BILINEAR),\n",
        "    transforms.ToTensor(),\n",
        "    transforms.Normalize(mean=[0.43,0.44,0.47],\n",
        "                       std=[0.20,0.20,0.20])                           \n",
        "])\n",
        "\n",
        "# TODO create new instances of loaders with the augmentations you chose\n",
        "data_aug_train = dset.SVHN('./', \n",
        "                       transform=tfs\n",
        "                      )\n",
        "\n",
        "train_aug_loader = torch.utils.data.DataLoader(data_aug_train, batch_size=batch_size, \n",
        "                                           sampler=train_sampler)"
      ],
      "execution_count": 0,
      "outputs": []
    },
    {
      "cell_type": "code",
      "metadata": {
        "colab_type": "code",
        "id": "PeO6Zw0DHqPR",
        "colab": {
          "base_uri": "https://localhost:8080/",
          "height": 102
        },
        "outputId": "7edfd920-892c-4f90-9a78-b64ef140e76c"
      },
      "source": [
        "# Finally, let's train with augmentations!\n",
        "\n",
        "# Note we shouldn't use augmentations on validation\n",
        "\n",
        "loss_history, train_history, val_history = train_model(nn_model, train_aug_loader, val_loader, loss, optimizer, 5)"
      ],
      "execution_count": 15,
      "outputs": [
        {
          "output_type": "stream",
          "text": [
            "Average loss: 1.192248, Train accuracy: 0.612924, Val accuracy: 0.756945\n",
            "Average loss: 0.946745, Train accuracy: 0.696669, Val accuracy: 0.728892\n",
            "Average loss: 0.888855, Train accuracy: 0.716480, Val accuracy: 0.764862\n",
            "Average loss: 0.847636, Train accuracy: 0.729908, Val accuracy: 0.760699\n",
            "Average loss: 0.817090, Train accuracy: 0.739173, Val accuracy: 0.768070\n"
          ],
          "name": "stdout"
        }
      ]
    },
    {
      "cell_type": "markdown",
      "metadata": {
        "colab_type": "text",
        "id": "r0bcioK6JBDK"
      },
      "source": [
        "# LeNet\n",
        "Попробуем имплементировать классическую архитектуру сверточной нейронной сети, предложенную Яном ЛеКуном в 1998 году. В свое время она достигла впечатляющих результатов на MNIST, посмотрим как она справится с SVHN?\n",
        "Она описана в статье [\"Gradient Based Learning Applied to Document Recognition\"](http://yann.lecun.com/exdb/publis/pdf/lecun-01a.pdf), попробуйте прочитать ключевые части и имплементировать предложенную архитетуру на PyTorch.\n",
        "\n",
        "Реализовывать слои и функцию ошибки LeNet, которых нет в PyTorch, **не нужно** - просто возьмите их размеры и переведите в уже известные нам Convolutional, Pooling и Fully Connected layers.\n",
        "\n",
        "Если в статье не очень понятно, можно просто погуглить LeNet и разобраться в деталях :)"
      ]
    },
    {
      "cell_type": "code",
      "metadata": {
        "colab_type": "code",
        "id": "ieEzZUglJAUB",
        "colab": {}
      },
      "source": [
        "# TODO: Implement LeNet-like architecture for SVHN task\n",
        "lenet_model = nn.Sequential(\n",
        "    nn.Conv2d(3, 6, 5),\n",
        "    nn.ReLU(),\n",
        "    nn.MaxPool2d(2),\n",
        "    nn.Conv2d(6, 16, 5),\n",
        "    nn.ReLU(),\n",
        "    nn.MaxPool2d(2),\n",
        "    nn.Conv2d(16, 120, 5),\n",
        "    nn.ReLU(),\n",
        "    Flattener(),\n",
        "    nn.Linear(120, 84),\n",
        "    nn.ReLU(),\n",
        "    nn.Linear(84, 10)\n",
        ")\n",
        "\n",
        "lenet_model.type(torch.cuda.FloatTensor)\n",
        "lenet_model.to(device)\n",
        "\n",
        "loss = nn.CrossEntropyLoss().type(torch.cuda.FloatTensor)\n",
        "optimizer = optim.SGD(lenet_model.parameters(), lr=1e-1, weight_decay=1e-4)"
      ],
      "execution_count": 0,
      "outputs": []
    },
    {
      "cell_type": "code",
      "metadata": {
        "colab_type": "code",
        "id": "WMmaPfdeKk9H",
        "colab": {
          "base_uri": "https://localhost:8080/",
          "height": 187
        },
        "outputId": "2d11df40-e8e2-47f1-f329-dd5f21730854"
      },
      "source": [
        "# Let's train it!\n",
        "loss_history, train_history, val_history = train_model(lenet_model, train_aug_loader, val_loader, loss, optimizer, 10)"
      ],
      "execution_count": 20,
      "outputs": [
        {
          "output_type": "stream",
          "text": [
            "Average loss: 1.884603, Train accuracy: 0.342064, Val accuracy: 0.646441\n",
            "Average loss: 0.888245, Train accuracy: 0.723424, Val accuracy: 0.783291\n",
            "Average loss: 0.707281, Train accuracy: 0.781695, Val accuracy: 0.813323\n",
            "Average loss: 0.633572, Train accuracy: 0.805549, Val accuracy: 0.824858\n",
            "Average loss: 0.591450, Train accuracy: 0.816828, Val accuracy: 0.826974\n",
            "Average loss: 0.556816, Train accuracy: 0.828823, Val accuracy: 0.843560\n",
            "Average loss: 0.537225, Train accuracy: 0.836280, Val accuracy: 0.845540\n",
            "Average loss: 0.519241, Train accuracy: 0.841381, Val accuracy: 0.839328\n",
            "Average loss: 0.503797, Train accuracy: 0.844999, Val accuracy: 0.848406\n",
            "Average loss: 0.497613, Train accuracy: 0.849572, Val accuracy: 0.840147\n"
          ],
          "name": "stdout"
        }
      ]
    },
    {
      "cell_type": "markdown",
      "metadata": {
        "colab_type": "text",
        "id": "u_O9qiYySvuj"
      },
      "source": [
        "# Подбор гиперпараметров"
      ]
    },
    {
      "cell_type": "code",
      "metadata": {
        "id": "BorPlq_AeAny",
        "colab_type": "code",
        "colab": {}
      },
      "source": [
        "def train_model(model, train_loader, val_loader, loss, optimizer, scheduler, num_epochs):    \n",
        "    loss_history = []\n",
        "    train_history = []\n",
        "    val_history = []\n",
        "    for epoch in range(num_epochs):\n",
        "        model.train() # Enter train mode\n",
        "        \n",
        "        loss_accum = 0\n",
        "        correct_samples = 0\n",
        "        total_samples = 0\n",
        "        for i_step, (x, y) in enumerate(train_loader):\n",
        "          \n",
        "            x_gpu = x.to(device)\n",
        "            y_gpu = y.to(device)\n",
        "            prediction = model(x_gpu)    \n",
        "            loss_value = loss(prediction, y_gpu)\n",
        "            optimizer.zero_grad()\n",
        "            loss_value.backward()\n",
        "            optimizer.step()\n",
        "            \n",
        "            _, indices = torch.max(prediction, 1)\n",
        "            correct_samples += torch.sum(indices == y_gpu)\n",
        "            total_samples += y.shape[0]\n",
        "            \n",
        "            loss_accum += loss_value\n",
        "\n",
        "        scheduler.step()\n",
        "        ave_loss = loss_accum / i_step\n",
        "        train_accuracy = float(correct_samples) / total_samples\n",
        "        val_accuracy = compute_accuracy(model, val_loader)\n",
        "        \n",
        "        loss_history.append(float(ave_loss))\n",
        "        train_history.append(train_accuracy)\n",
        "        val_history.append(val_accuracy)\n",
        "        \n",
        "        print(\"Average loss: %f, Train accuracy: %f, Val accuracy: %f\" % (ave_loss, train_accuracy, val_accuracy))\n",
        "        \n",
        "    return loss_history, train_history, val_history"
      ],
      "execution_count": 0,
      "outputs": []
    },
    {
      "cell_type": "code",
      "metadata": {
        "colab_type": "code",
        "id": "i6mhfdQ9K-N3",
        "colab": {
          "base_uri": "https://localhost:8080/",
          "height": 1000
        },
        "outputId": "b8edfc6a-db23-4bd3-8a0c-81f3e4e77d55"
      },
      "source": [
        "# The key hyperparameters we're going to tune are learning speed, annealing rate and regularization\n",
        "# We also encourage you to try different optimizers as well\n",
        "\n",
        "Hyperparams = namedtuple(\"Hyperparams\", ['learning_rate', 'anneal_epochs', 'reg'])\n",
        "RunResult = namedtuple(\"RunResult\", ['model', 'train_history', 'val_history', 'final_val_accuracy'])\n",
        "\n",
        "learning_rates = [1e0, 1e-1, 1e-2, 1e-3, 1e-4]\n",
        "anneal_coeff = 0.2\n",
        "anneal_epochs = [1, 5, 10, 15, 20, 50]\n",
        "regs = [1e-3, 1e-4, 1e-5, 1e-7]\n",
        "\n",
        "batch_size = 64\n",
        "epoch_num = 10\n",
        "\n",
        "# Record all the runs here\n",
        "# Key should be Hyperparams and values should be RunResult\n",
        "run_record = {} \n",
        "\n",
        "# Use grid search or random search and record all runs in run_record dictionnary \n",
        "# Important: perform search in logarithmic space!\n",
        "\n",
        "# TODO: Your code here!\n",
        "for t in range(10):\n",
        "    lr = random.choice(learning_rates)\n",
        "    anneal_epoch = random.choice(anneal_epochs)\n",
        "    reg = random.choice(regs)\n",
        "    lenet_model = nn.Sequential(\n",
        "        nn.Conv2d(3, 6, 5),\n",
        "        nn.ReLU(),\n",
        "        nn.MaxPool2d(2),\n",
        "        nn.Conv2d(6, 16, 5),\n",
        "        nn.ReLU(),\n",
        "        nn.MaxPool2d(2),\n",
        "        nn.Conv2d(16, 120, 5),\n",
        "        nn.ReLU(),\n",
        "        Flattener(),\n",
        "        nn.Linear(120, 84),\n",
        "        nn.ReLU(),\n",
        "        nn.Linear(84, 10)\n",
        "    )\n",
        "\n",
        "    lenet_model.type(torch.cuda.FloatTensor)\n",
        "    lenet_model.to(device)\n",
        "\n",
        "    loss = nn.CrossEntropyLoss().type(torch.cuda.FloatTensor)\n",
        "    optimizer = optim.SGD(lenet_model.parameters(), lr=lr, weight_decay=reg)\n",
        "    scheduler = lr_scheduler.StepLR(optimizer, step_size=anneal_epoch,\n",
        "                                    gamma=anneal_coeff)\n",
        "    loss_history, train_history, val_history = train_model(lenet_model, \n",
        "                                                           train_aug_loader,\n",
        "                                                           val_loader,\n",
        "                                                           loss,\n",
        "                                                           optimizer,\n",
        "                                                           scheduler,\n",
        "                                                           10)\n",
        "    params = Hyperparams(lr, anneal_epoch, reg)\n",
        "    result = RunResult(lenet_model, train_history, val_history, val_history[-1])\n",
        "    run_record[params] = result"
      ],
      "execution_count": 24,
      "outputs": [
        {
          "output_type": "stream",
          "text": [
            "Average loss: 2.257196, Train accuracy: 0.174760, Val accuracy: 0.189748\n",
            "Average loss: 2.238461, Train accuracy: 0.189076, Val accuracy: 0.189748\n",
            "Average loss: 2.237833, Train accuracy: 0.189076, Val accuracy: 0.189748\n",
            "Average loss: 2.237612, Train accuracy: 0.189076, Val accuracy: 0.189748\n",
            "Average loss: 2.237713, Train accuracy: 0.189076, Val accuracy: 0.189748\n",
            "Average loss: 2.237797, Train accuracy: 0.189076, Val accuracy: 0.189748\n",
            "Average loss: 2.237737, Train accuracy: 0.189076, Val accuracy: 0.189748\n",
            "Average loss: 2.237775, Train accuracy: 0.189076, Val accuracy: 0.189748\n",
            "Average loss: 2.237602, Train accuracy: 0.189076, Val accuracy: 0.189748\n",
            "Average loss: 2.237734, Train accuracy: 0.189076, Val accuracy: 0.189748\n",
            "Average loss: 2.298397, Train accuracy: 0.142938, Val accuracy: 0.141219\n",
            "Average loss: 2.282543, Train accuracy: 0.145480, Val accuracy: 0.147840\n",
            "Average loss: 2.270327, Train accuracy: 0.172696, Val accuracy: 0.187291\n",
            "Average loss: 2.260421, Train accuracy: 0.187199, Val accuracy: 0.190158\n",
            "Average loss: 2.252398, Train accuracy: 0.188718, Val accuracy: 0.189748\n",
            "Average loss: 2.246463, Train accuracy: 0.189076, Val accuracy: 0.189748\n",
            "Average loss: 2.243054, Train accuracy: 0.189076, Val accuracy: 0.189748\n",
            "Average loss: 2.240782, Train accuracy: 0.189076, Val accuracy: 0.189748\n",
            "Average loss: 2.239437, Train accuracy: 0.189076, Val accuracy: 0.189748\n",
            "Average loss: 2.238782, Train accuracy: 0.189076, Val accuracy: 0.189748\n",
            "Average loss: 2.254756, Train accuracy: 0.186380, Val accuracy: 0.189748\n",
            "Average loss: 2.237253, Train accuracy: 0.189076, Val accuracy: 0.189748\n",
            "Average loss: 2.233045, Train accuracy: 0.189076, Val accuracy: 0.189816\n",
            "Average loss: 2.215415, Train accuracy: 0.192915, Val accuracy: 0.192956\n",
            "Average loss: 2.062886, Train accuracy: 0.265724, Val accuracy: 0.443929\n",
            "Average loss: 1.744813, Train accuracy: 0.413132, Val accuracy: 0.507610\n",
            "Average loss: 1.598451, Train accuracy: 0.470157, Val accuracy: 0.561668\n",
            "Average loss: 1.477817, Train accuracy: 0.516466, Val accuracy: 0.606716\n",
            "Average loss: 1.381986, Train accuracy: 0.556342, Val accuracy: 0.632244\n",
            "Average loss: 1.305372, Train accuracy: 0.582466, Val accuracy: 0.655314\n",
            "Average loss: 2.236785, Train accuracy: 0.192523, Val accuracy: 0.189748\n",
            "Average loss: 2.242635, Train accuracy: 0.187575, Val accuracy: 0.189748\n",
            "Average loss: 2.242620, Train accuracy: 0.188104, Val accuracy: 0.189748\n",
            "Average loss: 2.242843, Train accuracy: 0.188189, Val accuracy: 0.189748\n",
            "Average loss: 2.242391, Train accuracy: 0.188377, Val accuracy: 0.189748\n",
            "Average loss: 2.242407, Train accuracy: 0.188240, Val accuracy: 0.189748\n",
            "Average loss: 2.242495, Train accuracy: 0.188581, Val accuracy: 0.189748\n",
            "Average loss: 2.242194, Train accuracy: 0.188854, Val accuracy: 0.189748\n",
            "Average loss: 2.242449, Train accuracy: 0.188069, Val accuracy: 0.189748\n",
            "Average loss: 2.242400, Train accuracy: 0.188155, Val accuracy: 0.189748\n",
            "Average loss: 2.218307, Train accuracy: 0.200628, Val accuracy: 0.189680\n",
            "Average loss: 2.169127, Train accuracy: 0.230454, Val accuracy: 0.226401\n",
            "Average loss: 2.142388, Train accuracy: 0.248217, Val accuracy: 0.283871\n",
            "Average loss: 2.219068, Train accuracy: 0.203938, Val accuracy: 0.224285\n",
            "Average loss: 2.159331, Train accuracy: 0.241102, Val accuracy: 0.255819\n",
            "Average loss: 1.857066, Train accuracy: 0.349179, Val accuracy: 0.453348\n",
            "Average loss: 1.716569, Train accuracy: 0.410436, Val accuracy: 0.523582\n",
            "Average loss: 1.413741, Train accuracy: 0.528427, Val accuracy: 0.568562\n",
            "Average loss: 1.269211, Train accuracy: 0.589513, Val accuracy: 0.647874\n",
            "Average loss: 1.173015, Train accuracy: 0.627632, Val accuracy: 0.652242\n",
            "Average loss: 2.300370, Train accuracy: 0.122786, Val accuracy: 0.139649\n",
            "Average loss: 2.297530, Train accuracy: 0.163840, Val accuracy: 0.176507\n",
            "Average loss: 2.294909, Train accuracy: 0.184947, Val accuracy: 0.187837\n",
            "Average loss: 2.292393, Train accuracy: 0.188479, Val accuracy: 0.189748\n",
            "Average loss: 2.289991, Train accuracy: 0.189059, Val accuracy: 0.189748\n",
            "Average loss: 2.287543, Train accuracy: 0.189076, Val accuracy: 0.189748\n",
            "Average loss: 2.285245, Train accuracy: 0.189076, Val accuracy: 0.189748\n",
            "Average loss: 2.282967, Train accuracy: 0.189076, Val accuracy: 0.189748\n",
            "Average loss: 2.280627, Train accuracy: 0.189076, Val accuracy: 0.189748\n",
            "Average loss: 2.278458, Train accuracy: 0.189076, Val accuracy: 0.189748\n",
            "Average loss: 2.305255, Train accuracy: 0.114220, Val accuracy: 0.114054\n",
            "Average loss: 2.302931, Train accuracy: 0.116370, Val accuracy: 0.114190\n",
            "Average loss: 2.300615, Train accuracy: 0.121950, Val accuracy: 0.114941\n",
            "Average loss: 2.298448, Train accuracy: 0.131010, Val accuracy: 0.117739\n",
            "Average loss: 2.296323, Train accuracy: 0.148278, Val accuracy: 0.129479\n",
            "Average loss: 2.294211, Train accuracy: 0.170136, Val accuracy: 0.158965\n",
            "Average loss: 2.292191, Train accuracy: 0.183974, Val accuracy: 0.185448\n",
            "Average loss: 2.290201, Train accuracy: 0.188564, Val accuracy: 0.189680\n",
            "Average loss: 2.288316, Train accuracy: 0.189008, Val accuracy: 0.189748\n",
            "Average loss: 2.286335, Train accuracy: 0.189076, Val accuracy: 0.189748\n",
            "Average loss: 2.291664, Train accuracy: 0.121216, Val accuracy: 0.140810\n",
            "Average loss: 2.272481, Train accuracy: 0.164096, Val accuracy: 0.179919\n",
            "Average loss: 2.254615, Train accuracy: 0.189042, Val accuracy: 0.189748\n",
            "Average loss: 2.244095, Train accuracy: 0.189076, Val accuracy: 0.189748\n",
            "Average loss: 2.240780, Train accuracy: 0.189076, Val accuracy: 0.189748\n",
            "Average loss: 2.239757, Train accuracy: 0.189076, Val accuracy: 0.189748\n",
            "Average loss: 2.239187, Train accuracy: 0.189076, Val accuracy: 0.189748\n",
            "Average loss: 2.238814, Train accuracy: 0.189076, Val accuracy: 0.189748\n",
            "Average loss: 2.238561, Train accuracy: 0.189076, Val accuracy: 0.189748\n",
            "Average loss: 2.238101, Train accuracy: 0.189076, Val accuracy: 0.189748\n",
            "Average loss: 2.290554, Train accuracy: 0.164301, Val accuracy: 0.189748\n",
            "Average loss: 2.275901, Train accuracy: 0.189076, Val accuracy: 0.189748\n",
            "Average loss: 2.263834, Train accuracy: 0.189076, Val accuracy: 0.189748\n",
            "Average loss: 2.253567, Train accuracy: 0.189076, Val accuracy: 0.189748\n",
            "Average loss: 2.246540, Train accuracy: 0.189076, Val accuracy: 0.189748\n",
            "Average loss: 2.243047, Train accuracy: 0.189076, Val accuracy: 0.189748\n",
            "Average loss: 2.241117, Train accuracy: 0.189076, Val accuracy: 0.189748\n",
            "Average loss: 2.239945, Train accuracy: 0.189076, Val accuracy: 0.189748\n",
            "Average loss: 2.239519, Train accuracy: 0.189076, Val accuracy: 0.189748\n",
            "Average loss: 2.239166, Train accuracy: 0.189076, Val accuracy: 0.189748\n",
            "Average loss: 2.153847, Train accuracy: 0.240931, Val accuracy: 0.248925\n",
            "Average loss: 2.137828, Train accuracy: 0.253558, Val accuracy: 0.287352\n",
            "Average loss: 2.167970, Train accuracy: 0.238167, Val accuracy: 0.231657\n",
            "Average loss: 2.207211, Train accuracy: 0.221308, Val accuracy: 0.204628\n",
            "Average loss: 2.211217, Train accuracy: 0.206890, Val accuracy: 0.159784\n",
            "Average loss: 2.227198, Train accuracy: 0.196942, Val accuracy: 0.200396\n",
            "Average loss: 2.236887, Train accuracy: 0.191789, Val accuracy: 0.150092\n",
            "Average loss: 2.238665, Train accuracy: 0.190202, Val accuracy: 0.189953\n",
            "Average loss: 2.242149, Train accuracy: 0.189025, Val accuracy: 0.189885\n",
            "Average loss: 2.242866, Train accuracy: 0.188325, Val accuracy: 0.189748\n"
          ],
          "name": "stdout"
        }
      ]
    },
    {
      "cell_type": "code",
      "metadata": {
        "colab_type": "code",
        "id": "Y6xExdw8JB1l",
        "outputId": "48041208-1169-4cf1-aba3-7506818e17a8",
        "colab": {
          "base_uri": "https://localhost:8080/",
          "height": 34
        }
      },
      "source": [
        "best_val_accuracy = None\n",
        "best_hyperparams = None\n",
        "best_run = None\n",
        "\n",
        "for hyperparams, run_result in run_record.items():\n",
        "    if best_val_accuracy is None or best_val_accuracy < run_result.final_val_accuracy:\n",
        "        best_val_accuracy = run_result.final_val_accuracy\n",
        "        best_hyperparams = hyperparams\n",
        "        best_run = run_result\n",
        "        \n",
        "print(\"Best validation accuracy: %4.2f, best hyperparams: %s\" % (best_val_accuracy, best_hyperparams))\n",
        "        "
      ],
      "execution_count": 25,
      "outputs": [
        {
          "output_type": "stream",
          "text": [
            "Best validation accuracy: 0.66, best hyperparams: Hyperparams(learning_rate=0.01, anneal_epochs=5, reg=0.0001)\n"
          ],
          "name": "stdout"
        }
      ]
    },
    {
      "cell_type": "markdown",
      "metadata": {
        "colab_type": "text",
        "id": "LOmsR0uVgtgf"
      },
      "source": [
        "# Свободное упражнение - догоним и перегоним LeNet!\n",
        "\n",
        "Попробуйте найти архитектуру и настройки тренировки, чтобы выступить лучше наших бейзлайнов.\n",
        "\n",
        "Что можно и нужно попробовать:\n",
        "- BatchNormalization (для convolution layers он в PyTorch называется [batchnorm2d](https://pytorch.org/docs/stable/nn.html#batchnorm2d))\n",
        "- Изменить количество слоев и их толщину\n",
        "- Изменять количество эпох тренировки\n",
        "- Попробовать и другие агментации"
      ]
    },
    {
      "cell_type": "code",
      "metadata": {
        "colab_type": "code",
        "id": "tSVhD747icoc",
        "colab": {}
      },
      "source": [
        "best_model = None"
      ],
      "execution_count": 0,
      "outputs": []
    },
    {
      "cell_type": "markdown",
      "metadata": {
        "colab_type": "text",
        "id": "ubeKgBcnhx7N"
      },
      "source": [
        "# Финальный аккорд - проверим лучшую модель на test set\n",
        "\n",
        "В качестве разнообразия - напишите код для прогона модели на test set вы.\n",
        "\n",
        "В результате вы должны натренировать модель, которая покажет более **90%** точности на test set.  \n",
        "Как водится, лучший результат в группе получит дополнительные баллы!"
      ]
    },
    {
      "cell_type": "code",
      "metadata": {
        "colab_type": "code",
        "id": "EIqM1kdeh-hd",
        "colab": {}
      },
      "source": [
        "# TODO Write the code to compute accuracy on test set\n",
        "final_test_accuracy = 0.0\n",
        "print(\"Final test accuracy - \", final_test_accuracy)"
      ],
      "execution_count": 0,
      "outputs": []
    },
    {
      "cell_type": "code",
      "metadata": {
        "colab_type": "code",
        "id": "BfH6qip6kVX_",
        "colab": {}
      },
      "source": [
        ""
      ],
      "execution_count": 0,
      "outputs": []
    }
  ]
}