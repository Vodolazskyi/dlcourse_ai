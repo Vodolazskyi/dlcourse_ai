{
 "cells": [
  {
   "cell_type": "markdown",
   "metadata": {},
   "source": [
    "# Задание 2.1 - Нейронные сети\n",
    "\n",
    "В этом задании вы реализуете и натренируете настоящую нейроную сеть своими руками!\n",
    "\n",
    "В некотором смысле это будет расширением прошлого задания - нам нужно просто составить несколько линейных классификаторов вместе!\n",
    "\n",
    "<img src=\"https://i.redd.it/n9fgba8b0qr01.png\" alt=\"Stack_more_layers\" width=\"400px\"/>"
   ]
  },
  {
   "cell_type": "code",
   "execution_count": 1,
   "metadata": {
    "ExecuteTime": {
     "end_time": "2020-02-06T08:40:11.231023Z",
     "start_time": "2020-02-06T08:40:11.018544Z"
    }
   },
   "outputs": [],
   "source": [
    "import numpy as np\n",
    "import matplotlib.pyplot as plt\n",
    "\n",
    "%matplotlib inline\n",
    "\n",
    "%load_ext autoreload\n",
    "%autoreload 2"
   ]
  },
  {
   "cell_type": "code",
   "execution_count": 2,
   "metadata": {
    "ExecuteTime": {
     "end_time": "2020-02-06T08:40:12.071096Z",
     "start_time": "2020-02-06T08:40:11.818334Z"
    }
   },
   "outputs": [],
   "source": [
    "from dataset import load_svhn, random_split_train_val\n",
    "from gradient_check import check_layer_gradient, check_layer_param_gradient, check_model_gradient\n",
    "from layers import FullyConnectedLayer, ReLULayer\n",
    "from model import TwoLayerNet\n",
    "from trainer import Trainer, Dataset\n",
    "from optim import SGD, MomentumSGD\n",
    "from metrics import multiclass_accuracy"
   ]
  },
  {
   "cell_type": "markdown",
   "metadata": {},
   "source": [
    "# Загружаем данные\n",
    "\n",
    "И разделяем их на training и validation."
   ]
  },
  {
   "cell_type": "code",
   "execution_count": 3,
   "metadata": {
    "ExecuteTime": {
     "end_time": "2020-02-06T08:40:16.444147Z",
     "start_time": "2020-02-06T08:40:12.962378Z"
    }
   },
   "outputs": [],
   "source": [
    "def prepare_for_neural_network(train_X, test_X):\n",
    "    train_flat = train_X.reshape(train_X.shape[0], -1).astype(np.float) / 255.0\n",
    "    test_flat = test_X.reshape(test_X.shape[0], -1).astype(np.float) / 255.0\n",
    "    \n",
    "    # Subtract mean\n",
    "    mean_image = np.mean(train_flat, axis = 0)\n",
    "    train_flat -= mean_image\n",
    "    test_flat -= mean_image\n",
    "    \n",
    "    return train_flat, test_flat\n",
    "    \n",
    "train_X, train_y, test_X, test_y = load_svhn(\"data\", max_train=10000, max_test=1000)    \n",
    "train_X, test_X = prepare_for_neural_network(train_X, test_X)\n",
    "# Split train into train and val\n",
    "train_X, train_y, val_X, val_y = random_split_train_val(train_X, train_y, num_val = 1000)"
   ]
  },
  {
   "cell_type": "markdown",
   "metadata": {},
   "source": [
    "# Как всегда, начинаем с кирпичиков\n",
    "\n",
    "Мы будем реализовывать необходимые нам слои по очереди. Каждый слой должен реализовать:\n",
    "- прямой проход (forward pass), который генерирует выход слоя по входу и запоминает необходимые данные\n",
    "- обратный проход (backward pass), который получает градиент по выходу слоя и вычисляет градиент по входу и по параметрам\n",
    "\n",
    "Начнем с ReLU, у которого параметров нет."
   ]
  },
  {
   "cell_type": "code",
   "execution_count": 20,
   "metadata": {
    "ExecuteTime": {
     "end_time": "2020-02-12T20:12:43.804292Z",
     "start_time": "2020-02-12T20:12:43.682556Z"
    },
    "scrolled": false
   },
   "outputs": [
    {
     "name": "stdout",
     "output_type": "stream",
     "text": [
      "Gradient check passed!\n"
     ]
    }
   ],
   "source": [
    "# TODO: Implement ReLULayer layer in layers.py\n",
    "# Note: you'll need to copy implementation of the gradient_check function from the previous assignment\n",
    "\n",
    "X = np.array([[1,-2,3],\n",
    "              [-1, 2, 0.1]\n",
    "              ])\n",
    "\n",
    "assert check_layer_gradient(ReLULayer(), X)"
   ]
  },
  {
   "cell_type": "markdown",
   "metadata": {},
   "source": [
    "А теперь реализуем полносвязный слой (fully connected layer), у которого будет два массива параметров: W (weights) и B (bias).\n",
    "\n",
    "Все параметры наши слои будут использовать для параметров специальный класс `Param`, в котором будут храниться значения параметров и градиенты этих параметров, вычисляемые во время обратного прохода.\n",
    "\n",
    "Это даст возможность аккумулировать (суммировать) градиенты из разных частей функции потерь, например, из cross-entropy loss и regularization loss."
   ]
  },
  {
   "cell_type": "code",
   "execution_count": 51,
   "metadata": {
    "ExecuteTime": {
     "end_time": "2020-02-13T15:02:12.712844Z",
     "start_time": "2020-02-13T15:02:12.482607Z"
    }
   },
   "outputs": [
    {
     "name": "stdout",
     "output_type": "stream",
     "text": [
      "Gradient check passed!\n",
      "Gradient check passed!\n",
      "Gradient check passed!\n"
     ]
    }
   ],
   "source": [
    "# TODO: Implement FullyConnected layer forward and backward methods\n",
    "assert check_layer_gradient(FullyConnectedLayer(3, 4), X)\n",
    "# TODO: Implement storing gradients for W and B\n",
    "assert check_layer_param_gradient(FullyConnectedLayer(3, 4), X, 'W')\n",
    "assert check_layer_param_gradient(FullyConnectedLayer(3, 4), X, 'B')"
   ]
  },
  {
   "cell_type": "markdown",
   "metadata": {},
   "source": [
    "## Создаем нейронную сеть\n",
    "\n",
    "Теперь мы реализуем простейшую нейронную сеть с двумя полносвязным слоями и нелинейностью ReLU. Реализуйте функцию `compute_loss_and_gradients`, она должна запустить прямой и обратный проход через оба слоя для вычисления градиентов.\n",
    "\n",
    "Не забудьте реализовать очистку градиентов в начале функции."
   ]
  },
  {
   "cell_type": "code",
   "execution_count": 64,
   "metadata": {
    "ExecuteTime": {
     "end_time": "2020-02-15T13:34:30.796486Z",
     "start_time": "2020-02-15T13:34:25.822768Z"
    }
   },
   "outputs": [
    {
     "name": "stdout",
     "output_type": "stream",
     "text": [
      "Checking gradient for W1\n",
      "Gradient check passed!\n",
      "Checking gradient for B1\n",
      "Gradient check passed!\n",
      "Checking gradient for W2\n",
      "Gradient check passed!\n",
      "Checking gradient for B2\n",
      "Gradient check passed!\n"
     ]
    },
    {
     "data": {
      "text/plain": [
       "True"
      ]
     },
     "execution_count": 64,
     "metadata": {},
     "output_type": "execute_result"
    }
   ],
   "source": [
    "# TODO: In model.py, implement compute_loss_and_gradients function\n",
    "model = TwoLayerNet(n_input = train_X.shape[1], n_output = 10, hidden_layer_size = 3, reg = 0)\n",
    "loss = model.compute_loss_and_gradients(train_X[:2], train_y[:2])\n",
    "\n",
    "# TODO Now implement backward pass and aggregate all of the params\n",
    "check_model_gradient(model, train_X[:2], train_y[:2])"
   ]
  },
  {
   "cell_type": "markdown",
   "metadata": {},
   "source": [
    "Теперь добавьте к модели регуляризацию - она должна прибавляться к loss и делать свой вклад в градиенты."
   ]
  },
  {
   "cell_type": "code",
   "execution_count": 65,
   "metadata": {
    "ExecuteTime": {
     "end_time": "2020-02-15T13:34:36.780451Z",
     "start_time": "2020-02-15T13:34:31.466526Z"
    }
   },
   "outputs": [
    {
     "name": "stdout",
     "output_type": "stream",
     "text": [
      "Checking gradient for W1\n",
      "Gradient check passed!\n",
      "Checking gradient for B1\n",
      "Gradient check passed!\n",
      "Checking gradient for W2\n",
      "Gradient check passed!\n",
      "Checking gradient for B2\n",
      "Gradient check passed!\n"
     ]
    },
    {
     "data": {
      "text/plain": [
       "True"
      ]
     },
     "execution_count": 65,
     "metadata": {},
     "output_type": "execute_result"
    }
   ],
   "source": [
    "# TODO Now implement l2 regularization in the forward and backward pass\n",
    "model_with_reg = TwoLayerNet(n_input = train_X.shape[1], n_output = 10, hidden_layer_size = 3, reg = 1e1)\n",
    "loss_with_reg = model_with_reg.compute_loss_and_gradients(train_X[:2], train_y[:2])\n",
    "assert loss_with_reg > loss and not np.isclose(loss_with_reg, loss), \\\n",
    "    \"Loss with regularization (%2.4f) should be higher than without it (%2.4f)!\" % (loss, loss_with_reg)\n",
    "\n",
    "check_model_gradient(model_with_reg, train_X[:2], train_y[:2])"
   ]
  },
  {
   "cell_type": "markdown",
   "metadata": {},
   "source": [
    "Также реализуем функцию предсказания (вычисления значения) модели на новых данных.\n",
    "\n",
    "Какое значение точности мы ожидаем увидеть до начала тренировки?"
   ]
  },
  {
   "cell_type": "code",
   "execution_count": 76,
   "metadata": {
    "ExecuteTime": {
     "end_time": "2020-02-15T19:50:43.750433Z",
     "start_time": "2020-02-15T19:50:43.622530Z"
    }
   },
   "outputs": [
    {
     "data": {
      "text/plain": [
       "0.16666666666666666"
      ]
     },
     "execution_count": 76,
     "metadata": {},
     "output_type": "execute_result"
    }
   ],
   "source": [
    "# Finally, implement predict function!\n",
    "\n",
    "# TODO: Implement predict function\n",
    "# What would be the value we expect?\n",
    "multiclass_accuracy(model_with_reg.predict(train_X[:30]), train_y[:30]) "
   ]
  },
  {
   "cell_type": "markdown",
   "metadata": {},
   "source": [
    "# Допишем код для процесса тренировки\n",
    "\n",
    "Если все реализовано корректно, значение функции ошибки должно уменьшаться с каждой эпохой, пусть и медленно. Не беспокойтесь пока про validation accuracy."
   ]
  },
  {
   "cell_type": "code",
   "execution_count": 78,
   "metadata": {
    "ExecuteTime": {
     "end_time": "2020-02-15T20:01:44.007821Z",
     "start_time": "2020-02-15T19:50:59.056547Z"
    }
   },
   "outputs": [
    {
     "name": "stdout",
     "output_type": "stream",
     "text": [
      "Loss: 2.302880, Train accuracy: 0.196667, val accuracy: 0.206000\n",
      "Loss: 2.302837, Train accuracy: 0.196667, val accuracy: 0.206000\n",
      "Loss: 2.302986, Train accuracy: 0.148222, val accuracy: 0.140000\n",
      "Loss: 2.302018, Train accuracy: 0.196667, val accuracy: 0.206000\n",
      "Loss: 2.302444, Train accuracy: 0.196667, val accuracy: 0.206000\n",
      "Loss: 2.302245, Train accuracy: 0.196667, val accuracy: 0.206000\n",
      "Loss: 2.301876, Train accuracy: 0.196667, val accuracy: 0.206000\n",
      "Loss: 2.302162, Train accuracy: 0.196667, val accuracy: 0.206000\n",
      "Loss: 2.302642, Train accuracy: 0.196667, val accuracy: 0.206000\n",
      "Loss: 2.301348, Train accuracy: 0.196667, val accuracy: 0.206000\n",
      "Loss: 2.301849, Train accuracy: 0.196667, val accuracy: 0.206000\n",
      "Loss: 2.303082, Train accuracy: 0.196667, val accuracy: 0.206000\n",
      "Loss: 2.301838, Train accuracy: 0.196667, val accuracy: 0.206000\n",
      "Loss: 2.301910, Train accuracy: 0.196667, val accuracy: 0.206000\n",
      "Loss: 2.302193, Train accuracy: 0.196667, val accuracy: 0.206000\n",
      "Loss: 2.302784, Train accuracy: 0.196667, val accuracy: 0.206000\n",
      "Loss: 2.302918, Train accuracy: 0.196667, val accuracy: 0.206000\n",
      "Loss: 2.302588, Train accuracy: 0.196667, val accuracy: 0.206000\n",
      "Loss: 2.301705, Train accuracy: 0.196667, val accuracy: 0.206000\n",
      "Loss: 2.302213, Train accuracy: 0.148222, val accuracy: 0.140000\n"
     ]
    }
   ],
   "source": [
    "model = TwoLayerNet(n_input = train_X.shape[1], n_output = 10, hidden_layer_size = 100, reg = 1e1)\n",
    "dataset = Dataset(train_X, train_y, val_X, val_y)\n",
    "trainer = Trainer(model, dataset, SGD(), learning_rate = 1e-2)\n",
    "\n",
    "# TODO Implement missing pieces in Trainer.fit function\n",
    "# You should expect loss to go down every epoch, even if it's slow\n",
    "loss_history, train_history, val_history = trainer.fit()"
   ]
  },
  {
   "cell_type": "code",
   "execution_count": 79,
   "metadata": {
    "ExecuteTime": {
     "end_time": "2020-02-15T20:06:01.879374Z",
     "start_time": "2020-02-15T20:06:01.534187Z"
    }
   },
   "outputs": [
    {
     "data": {
      "text/plain": [
       "[<matplotlib.lines.Line2D at 0x7f16a507ca90>]"
      ]
     },
     "execution_count": 79,
     "metadata": {},
     "output_type": "execute_result"
    },
    {
     "data": {
      "image/png": "[encoded data removed]",
      "text/plain": [
       "<Figure size 432x288 with 1 Axes>"
      ]
     },
     "metadata": {
      "needs_background": "light"
     },
     "output_type": "display_data"
    }
   ],
   "source": [
    "plt.plot(train_history)\n",
    "plt.plot(val_history)"
   ]
  },
  {
   "cell_type": "markdown",
   "metadata": {},
   "source": [
    "# Улучшаем процесс тренировки\n",
    "\n",
    "Мы реализуем несколько ключевых оптимизаций, необходимых для тренировки современных нейросетей."
   ]
  },
  {
   "cell_type": "markdown",
   "metadata": {},
   "source": [
    "## Уменьшение скорости обучения (learning rate decay)\n",
    "\n",
    "Одна из необходимых оптимизаций во время тренировки нейронных сетей - постепенное уменьшение скорости обучения по мере тренировки.\n",
    "\n",
    "Один из стандартных методов - уменьшение скорости обучения (learning rate) каждые N эпох на коэффициент d (часто называемый decay). Значения N и d, как всегда, являются гиперпараметрами и должны подбираться на основе эффективности на проверочных данных (validation data). \n",
    "\n",
    "В нашем случае N будет равным 1."
   ]
  },
  {
   "cell_type": "code",
   "execution_count": 80,
   "metadata": {
    "ExecuteTime": {
     "end_time": "2020-02-15T20:07:47.735055Z",
     "start_time": "2020-02-15T20:06:05.088982Z"
    }
   },
   "outputs": [
    {
     "name": "stdout",
     "output_type": "stream",
     "text": [
      "Loss: 2.196285, Train accuracy: 0.196667, val accuracy: 0.206000\n",
      "Loss: 2.243286, Train accuracy: 0.196667, val accuracy: 0.206000\n",
      "Loss: 2.292185, Train accuracy: 0.196667, val accuracy: 0.206000\n",
      "Loss: 2.291255, Train accuracy: 0.196667, val accuracy: 0.206000\n",
      "Loss: 2.259367, Train accuracy: 0.196667, val accuracy: 0.206000\n",
      "Loss: 2.291648, Train accuracy: 0.196667, val accuracy: 0.206000\n",
      "Loss: 2.310185, Train accuracy: 0.196667, val accuracy: 0.206000\n",
      "Loss: 2.252359, Train accuracy: 0.196667, val accuracy: 0.206000\n",
      "Loss: 2.241273, Train accuracy: 0.196667, val accuracy: 0.206000\n",
      "Loss: 2.324438, Train accuracy: 0.196667, val accuracy: 0.206000\n",
      "Loss: 2.189960, Train accuracy: 0.196667, val accuracy: 0.206000\n",
      "Loss: 2.304170, Train accuracy: 0.196667, val accuracy: 0.206000\n",
      "Loss: 2.246144, Train accuracy: 0.196667, val accuracy: 0.206000\n",
      "Loss: 2.214646, Train accuracy: 0.196667, val accuracy: 0.206000\n",
      "Loss: 2.232068, Train accuracy: 0.196667, val accuracy: 0.206000\n",
      "Loss: 2.260201, Train accuracy: 0.196667, val accuracy: 0.206000\n",
      "Loss: 2.318132, Train accuracy: 0.196667, val accuracy: 0.206000\n",
      "Loss: 2.279026, Train accuracy: 0.196667, val accuracy: 0.206000\n",
      "Loss: 2.205660, Train accuracy: 0.196667, val accuracy: 0.206000\n",
      "Loss: 2.304523, Train accuracy: 0.196667, val accuracy: 0.206000\n"
     ]
    }
   ],
   "source": [
    "# TODO Implement learning rate decay inside Trainer.fit method\n",
    "# Decay should happen once per epoch\n",
    "\n",
    "model = TwoLayerNet(n_input = train_X.shape[1], n_output = 10, hidden_layer_size = 100, reg = 1e-1)\n",
    "dataset = Dataset(train_X, train_y, val_X, val_y)\n",
    "trainer = Trainer(model, dataset, SGD(), learning_rate_decay=0.99)\n",
    "\n",
    "initial_learning_rate = trainer.learning_rate\n",
    "loss_history, train_history, val_history = trainer.fit()\n",
    "\n",
    "assert trainer.learning_rate < initial_learning_rate, \"Learning rate should've been reduced\"\n",
    "assert trainer.learning_rate > 0.5*initial_learning_rate, \"Learning rate shouldn'tve been reduced that much!\""
   ]
  },
  {
   "cell_type": "markdown",
   "metadata": {},
   "source": [
    "# Накопление импульса (Momentum SGD)\n",
    "\n",
    "Другой большой класс оптимизаций - использование более эффективных методов градиентного спуска. Мы реализуем один из них - накопление импульса (Momentum SGD).\n",
    "\n",
    "Этот метод хранит скорость движения, использует градиент для ее изменения на каждом шаге, и изменяет веса пропорционально значению скорости.\n",
    "(Физическая аналогия: Вместо скорости градиенты теперь будут задавать ускорение, но будет присутствовать сила трения.)\n",
    "\n",
    "```\n",
    "velocity = momentum * velocity - learning_rate * gradient \n",
    "w = w + velocity\n",
    "```\n",
    "\n",
    "`momentum` здесь коэффициент затухания, который тоже является гиперпараметром (к счастью, для него часто есть хорошее значение по умолчанию, типичный диапазон -- 0.8-0.99).\n",
    "\n",
    "Несколько полезных ссылок, где метод разбирается более подробно:  \n",
    "http://cs231n.github.io/neural-networks-3/#sgd  \n",
    "https://distill.pub/2017/momentum/"
   ]
  },
  {
   "cell_type": "code",
   "execution_count": 82,
   "metadata": {
    "ExecuteTime": {
     "end_time": "2020-02-16T10:00:22.743315Z",
     "start_time": "2020-02-16T09:59:21.119137Z"
    }
   },
   "outputs": [
    {
     "name": "stdout",
     "output_type": "stream",
     "text": [
      "Loss: 2.296753, Train accuracy: 0.196667, val accuracy: 0.206000\n",
      "Loss: 2.303755, Train accuracy: 0.196667, val accuracy: 0.206000\n",
      "Loss: 2.297398, Train accuracy: 0.196667, val accuracy: 0.206000\n",
      "Loss: 2.305390, Train accuracy: 0.196667, val accuracy: 0.206000\n",
      "Loss: 2.269974, Train accuracy: 0.196667, val accuracy: 0.206000\n",
      "Loss: 2.271096, Train accuracy: 0.196667, val accuracy: 0.206000\n",
      "Loss: 2.311845, Train accuracy: 0.196667, val accuracy: 0.206000\n",
      "Loss: 2.275068, Train accuracy: 0.196667, val accuracy: 0.206000\n",
      "Loss: 2.255236, Train accuracy: 0.196667, val accuracy: 0.206000\n",
      "Loss: 2.266958, Train accuracy: 0.196667, val accuracy: 0.206000\n",
      "Loss: 2.272964, Train accuracy: 0.196667, val accuracy: 0.206000\n",
      "Loss: 2.261428, Train accuracy: 0.196667, val accuracy: 0.206000\n",
      "Loss: 2.258415, Train accuracy: 0.196667, val accuracy: 0.206000\n",
      "Loss: 2.183523, Train accuracy: 0.196667, val accuracy: 0.206000\n",
      "Loss: 2.277146, Train accuracy: 0.196667, val accuracy: 0.206000\n",
      "Loss: 2.333425, Train accuracy: 0.196667, val accuracy: 0.206000\n",
      "Loss: 2.243174, Train accuracy: 0.196667, val accuracy: 0.206000\n",
      "Loss: 2.238656, Train accuracy: 0.196667, val accuracy: 0.206000\n",
      "Loss: 2.275503, Train accuracy: 0.196667, val accuracy: 0.206000\n",
      "Loss: 2.262695, Train accuracy: 0.196667, val accuracy: 0.206000\n"
     ]
    }
   ],
   "source": [
    "# TODO: Implement MomentumSGD.update function in optim.py\n",
    "\n",
    "model = TwoLayerNet(n_input = train_X.shape[1], n_output = 10, hidden_layer_size = 100, reg = 1e-1)\n",
    "dataset = Dataset(train_X, train_y, val_X, val_y)\n",
    "trainer = Trainer(model, dataset, MomentumSGD(), learning_rate=1e-4, learning_rate_decay=0.99)\n",
    "\n",
    "# You should see even better results than before!\n",
    "loss_history, train_history, val_history = trainer.fit()"
   ]
  },
  {
   "cell_type": "markdown",
   "metadata": {},
   "source": [
    "# Ну что, давайте уже тренировать сеть!"
   ]
  },
  {
   "cell_type": "markdown",
   "metadata": {},
   "source": [
    "## Последний тест - переобучимся (overfit) на маленьком наборе данных\n",
    "\n",
    "Хороший способ проверить, все ли реализовано корректно - переобучить сеть на маленьком наборе данных.  \n",
    "Наша модель обладает достаточной мощностью, чтобы приблизить маленький набор данных идеально, поэтому мы ожидаем, что на нем мы быстро дойдем до 100% точности на тренировочном наборе. \n",
    "\n",
    "Если этого не происходит, то где-то была допущена ошибка!"
   ]
  },
  {
   "cell_type": "code",
   "execution_count": 83,
   "metadata": {
    "ExecuteTime": {
     "end_time": "2020-02-16T10:00:29.266618Z",
     "start_time": "2020-02-16T10:00:25.698367Z"
    }
   },
   "outputs": [
    {
     "name": "stdout",
     "output_type": "stream",
     "text": [
      "Loss: 2.314745, Train accuracy: 0.200000, val accuracy: 0.133333\n",
      "Loss: 2.294991, Train accuracy: 0.200000, val accuracy: 0.133333\n",
      "Loss: 2.283656, Train accuracy: 0.200000, val accuracy: 0.066667\n",
      "Loss: 2.273923, Train accuracy: 0.266667, val accuracy: 0.000000\n",
      "Loss: 2.294504, Train accuracy: 0.266667, val accuracy: 0.000000\n",
      "Loss: 2.282715, Train accuracy: 0.266667, val accuracy: 0.000000\n",
      "Loss: 2.305041, Train accuracy: 0.266667, val accuracy: 0.000000\n",
      "Loss: 2.281190, Train accuracy: 0.266667, val accuracy: 0.000000\n",
      "Loss: 2.233091, Train accuracy: 0.400000, val accuracy: 0.000000\n",
      "Loss: 2.246683, Train accuracy: 0.400000, val accuracy: 0.000000\n",
      "Loss: 2.027679, Train accuracy: 0.400000, val accuracy: 0.000000\n",
      "Loss: 1.891197, Train accuracy: 0.400000, val accuracy: 0.000000\n",
      "Loss: 1.660427, Train accuracy: 0.333333, val accuracy: 0.000000\n",
      "Loss: 1.975044, Train accuracy: 0.400000, val accuracy: 0.000000\n",
      "Loss: 1.933835, Train accuracy: 0.333333, val accuracy: 0.000000\n",
      "Loss: 1.797242, Train accuracy: 0.400000, val accuracy: 0.000000\n",
      "Loss: 2.014793, Train accuracy: 0.400000, val accuracy: 0.000000\n",
      "Loss: 2.187727, Train accuracy: 0.400000, val accuracy: 0.000000\n",
      "Loss: 1.576306, Train accuracy: 0.400000, val accuracy: 0.000000\n",
      "Loss: 1.766901, Train accuracy: 0.400000, val accuracy: 0.000000\n",
      "Loss: 1.921865, Train accuracy: 0.400000, val accuracy: 0.066667\n",
      "Loss: 1.199832, Train accuracy: 0.400000, val accuracy: 0.000000\n",
      "Loss: 2.235053, Train accuracy: 0.466667, val accuracy: 0.066667\n",
      "Loss: 1.394587, Train accuracy: 0.466667, val accuracy: 0.000000\n",
      "Loss: 1.609927, Train accuracy: 0.466667, val accuracy: 0.066667\n",
      "Loss: 1.194890, Train accuracy: 0.466667, val accuracy: 0.066667\n",
      "Loss: 1.595406, Train accuracy: 0.466667, val accuracy: 0.000000\n",
      "Loss: 1.626948, Train accuracy: 0.466667, val accuracy: 0.066667\n",
      "Loss: 1.390017, Train accuracy: 0.466667, val accuracy: 0.066667\n",
      "Loss: 1.400347, Train accuracy: 0.466667, val accuracy: 0.066667\n",
      "Loss: 1.485635, Train accuracy: 0.533333, val accuracy: 0.066667\n",
      "Loss: 1.594706, Train accuracy: 0.533333, val accuracy: 0.066667\n",
      "Loss: 1.167686, Train accuracy: 0.533333, val accuracy: 0.066667\n",
      "Loss: 1.200924, Train accuracy: 0.466667, val accuracy: 0.000000\n",
      "Loss: 1.170722, Train accuracy: 0.600000, val accuracy: 0.066667\n",
      "Loss: 1.453480, Train accuracy: 0.600000, val accuracy: 0.000000\n",
      "Loss: 1.726485, Train accuracy: 0.600000, val accuracy: 0.066667\n",
      "Loss: 1.090035, Train accuracy: 0.666667, val accuracy: 0.066667\n",
      "Loss: 1.473797, Train accuracy: 0.666667, val accuracy: 0.066667\n",
      "Loss: 0.896173, Train accuracy: 0.666667, val accuracy: 0.066667\n",
      "Loss: 0.926880, Train accuracy: 0.600000, val accuracy: 0.066667\n",
      "Loss: 1.214674, Train accuracy: 0.733333, val accuracy: 0.066667\n",
      "Loss: 1.438707, Train accuracy: 0.733333, val accuracy: 0.133333\n",
      "Loss: 1.173277, Train accuracy: 0.666667, val accuracy: 0.066667\n",
      "Loss: 1.326977, Train accuracy: 0.666667, val accuracy: 0.000000\n",
      "Loss: 0.994799, Train accuracy: 0.666667, val accuracy: 0.000000\n",
      "Loss: 1.505777, Train accuracy: 0.666667, val accuracy: 0.066667\n",
      "Loss: 1.010810, Train accuracy: 0.733333, val accuracy: 0.066667\n",
      "Loss: 0.540167, Train accuracy: 0.666667, val accuracy: 0.066667\n",
      "Loss: 1.138836, Train accuracy: 0.666667, val accuracy: 0.000000\n",
      "Loss: 1.415973, Train accuracy: 0.733333, val accuracy: 0.133333\n",
      "Loss: 0.784600, Train accuracy: 0.733333, val accuracy: 0.066667\n",
      "Loss: 0.730094, Train accuracy: 0.733333, val accuracy: 0.000000\n",
      "Loss: 0.700350, Train accuracy: 0.733333, val accuracy: 0.066667\n",
      "Loss: 1.443473, Train accuracy: 0.733333, val accuracy: 0.066667\n",
      "Loss: 0.876750, Train accuracy: 0.733333, val accuracy: 0.066667\n",
      "Loss: 0.641291, Train accuracy: 0.733333, val accuracy: 0.066667\n",
      "Loss: 1.322343, Train accuracy: 0.733333, val accuracy: 0.066667\n",
      "Loss: 0.911267, Train accuracy: 0.733333, val accuracy: 0.066667\n",
      "Loss: 0.581888, Train accuracy: 0.733333, val accuracy: 0.066667\n",
      "Loss: 1.070399, Train accuracy: 0.733333, val accuracy: 0.066667\n",
      "Loss: 1.461767, Train accuracy: 0.733333, val accuracy: 0.066667\n",
      "Loss: 1.128479, Train accuracy: 0.733333, val accuracy: 0.066667\n",
      "Loss: 0.674748, Train accuracy: 0.733333, val accuracy: 0.066667\n",
      "Loss: 0.727660, Train accuracy: 0.733333, val accuracy: 0.066667\n",
      "Loss: 0.737735, Train accuracy: 0.733333, val accuracy: 0.066667\n",
      "Loss: 1.115084, Train accuracy: 0.733333, val accuracy: 0.066667\n",
      "Loss: 1.541788, Train accuracy: 0.800000, val accuracy: 0.066667\n",
      "Loss: 0.821905, Train accuracy: 0.733333, val accuracy: 0.066667\n",
      "Loss: 1.022101, Train accuracy: 0.733333, val accuracy: 0.066667\n",
      "Loss: 0.703773, Train accuracy: 0.800000, val accuracy: 0.066667\n",
      "Loss: 1.004503, Train accuracy: 0.800000, val accuracy: 0.066667\n",
      "Loss: 0.967758, Train accuracy: 0.800000, val accuracy: 0.066667\n",
      "Loss: 0.275713, Train accuracy: 0.800000, val accuracy: 0.066667\n",
      "Loss: 0.886408, Train accuracy: 0.800000, val accuracy: 0.066667\n",
      "Loss: 0.961062, Train accuracy: 0.866667, val accuracy: 0.066667\n",
      "Loss: 0.394489, Train accuracy: 0.933333, val accuracy: 0.066667\n",
      "Loss: 0.742183, Train accuracy: 0.933333, val accuracy: 0.066667\n",
      "Loss: 0.809723, Train accuracy: 0.933333, val accuracy: 0.066667\n",
      "Loss: 0.389090, Train accuracy: 0.933333, val accuracy: 0.066667\n",
      "Loss: 1.286813, Train accuracy: 0.933333, val accuracy: 0.066667\n",
      "Loss: 0.227422, Train accuracy: 0.933333, val accuracy: 0.066667\n",
      "Loss: 0.675562, Train accuracy: 0.933333, val accuracy: 0.066667\n",
      "Loss: 0.412811, Train accuracy: 0.933333, val accuracy: 0.066667\n",
      "Loss: 0.385344, Train accuracy: 0.933333, val accuracy: 0.066667\n",
      "Loss: 0.757081, Train accuracy: 0.933333, val accuracy: 0.066667\n",
      "Loss: 0.731898, Train accuracy: 0.933333, val accuracy: 0.066667\n",
      "Loss: 0.505905, Train accuracy: 0.933333, val accuracy: 0.066667\n",
      "Loss: 0.752472, Train accuracy: 0.933333, val accuracy: 0.066667\n",
      "Loss: 0.973210, Train accuracy: 0.933333, val accuracy: 0.066667\n",
      "Loss: 0.658719, Train accuracy: 0.933333, val accuracy: 0.066667\n",
      "Loss: 0.651076, Train accuracy: 0.933333, val accuracy: 0.066667\n",
      "Loss: 0.751647, Train accuracy: 0.933333, val accuracy: 0.066667\n",
      "Loss: 0.409693, Train accuracy: 0.933333, val accuracy: 0.066667\n",
      "Loss: 0.821269, Train accuracy: 0.933333, val accuracy: 0.066667\n",
      "Loss: 1.116612, Train accuracy: 0.933333, val accuracy: 0.066667\n",
      "Loss: 0.873085, Train accuracy: 0.933333, val accuracy: 0.066667\n",
      "Loss: 0.573614, Train accuracy: 0.933333, val accuracy: 0.066667\n",
      "Loss: 0.714108, Train accuracy: 0.933333, val accuracy: 0.066667\n",
      "Loss: 0.836464, Train accuracy: 0.933333, val accuracy: 0.066667\n",
      "Loss: 0.856813, Train accuracy: 0.933333, val accuracy: 0.000000\n",
      "Loss: 0.877731, Train accuracy: 0.933333, val accuracy: 0.000000\n",
      "Loss: 0.673466, Train accuracy: 0.933333, val accuracy: 0.000000\n",
      "Loss: 0.365671, Train accuracy: 0.933333, val accuracy: 0.000000\n",
      "Loss: 0.858488, Train accuracy: 0.933333, val accuracy: 0.000000\n",
      "Loss: 0.621555, Train accuracy: 0.933333, val accuracy: 0.000000\n",
      "Loss: 0.738885, Train accuracy: 0.933333, val accuracy: 0.000000\n",
      "Loss: 0.774355, Train accuracy: 0.933333, val accuracy: 0.000000\n",
      "Loss: 0.715170, Train accuracy: 0.933333, val accuracy: 0.000000\n",
      "Loss: 0.816658, Train accuracy: 0.933333, val accuracy: 0.000000\n",
      "Loss: 0.558851, Train accuracy: 0.933333, val accuracy: 0.000000\n",
      "Loss: 0.738173, Train accuracy: 0.933333, val accuracy: 0.000000\n",
      "Loss: 0.430083, Train accuracy: 0.933333, val accuracy: 0.000000\n",
      "Loss: 0.849971, Train accuracy: 0.933333, val accuracy: 0.000000\n",
      "Loss: 0.727364, Train accuracy: 1.000000, val accuracy: 0.000000\n",
      "Loss: 0.479156, Train accuracy: 1.000000, val accuracy: 0.000000\n",
      "Loss: 0.405638, Train accuracy: 1.000000, val accuracy: 0.000000\n",
      "Loss: 0.412138, Train accuracy: 1.000000, val accuracy: 0.000000\n",
      "Loss: 0.629570, Train accuracy: 0.933333, val accuracy: 0.000000\n",
      "Loss: 0.346061, Train accuracy: 0.933333, val accuracy: 0.000000\n",
      "Loss: 0.825683, Train accuracy: 1.000000, val accuracy: 0.000000\n",
      "Loss: 0.740548, Train accuracy: 1.000000, val accuracy: 0.000000\n",
      "Loss: 0.515097, Train accuracy: 1.000000, val accuracy: 0.000000\n",
      "Loss: 0.861557, Train accuracy: 1.000000, val accuracy: 0.000000\n",
      "Loss: 0.482032, Train accuracy: 1.000000, val accuracy: 0.000000\n",
      "Loss: 0.710916, Train accuracy: 1.000000, val accuracy: 0.000000\n",
      "Loss: 0.639291, Train accuracy: 1.000000, val accuracy: 0.000000\n",
      "Loss: 0.391310, Train accuracy: 1.000000, val accuracy: 0.000000\n",
      "Loss: 0.609457, Train accuracy: 1.000000, val accuracy: 0.000000\n",
      "Loss: 0.646813, Train accuracy: 1.000000, val accuracy: 0.000000\n",
      "Loss: 0.815676, Train accuracy: 1.000000, val accuracy: 0.000000\n",
      "Loss: 0.608870, Train accuracy: 1.000000, val accuracy: 0.000000\n",
      "Loss: 0.488981, Train accuracy: 1.000000, val accuracy: 0.000000\n",
      "Loss: 0.555863, Train accuracy: 1.000000, val accuracy: 0.000000\n"
     ]
    },
    {
     "name": "stdout",
     "output_type": "stream",
     "text": [
      "Loss: 0.473763, Train accuracy: 1.000000, val accuracy: 0.000000\n",
      "Loss: 0.500382, Train accuracy: 1.000000, val accuracy: 0.000000\n",
      "Loss: 0.561333, Train accuracy: 1.000000, val accuracy: 0.000000\n",
      "Loss: 0.287411, Train accuracy: 1.000000, val accuracy: 0.000000\n",
      "Loss: 0.367805, Train accuracy: 1.000000, val accuracy: 0.000000\n",
      "Loss: 0.357784, Train accuracy: 1.000000, val accuracy: 0.000000\n",
      "Loss: 0.812625, Train accuracy: 1.000000, val accuracy: 0.000000\n",
      "Loss: 0.652771, Train accuracy: 1.000000, val accuracy: 0.000000\n",
      "Loss: 0.619171, Train accuracy: 1.000000, val accuracy: 0.000000\n",
      "Loss: 0.390089, Train accuracy: 1.000000, val accuracy: 0.000000\n",
      "Loss: 0.369456, Train accuracy: 1.000000, val accuracy: 0.000000\n",
      "Loss: 0.682764, Train accuracy: 1.000000, val accuracy: 0.000000\n",
      "Loss: 0.519756, Train accuracy: 1.000000, val accuracy: 0.000000\n",
      "Loss: 0.304947, Train accuracy: 1.000000, val accuracy: 0.000000\n",
      "Loss: 0.426953, Train accuracy: 1.000000, val accuracy: 0.000000\n",
      "Loss: 0.578822, Train accuracy: 1.000000, val accuracy: 0.000000\n"
     ]
    }
   ],
   "source": [
    "data_size = 15\n",
    "model = TwoLayerNet(n_input = train_X.shape[1], n_output = 10, hidden_layer_size = 100, reg = 1e-1)\n",
    "dataset = Dataset(train_X[:data_size], train_y[:data_size], val_X[:data_size], val_y[:data_size])\n",
    "trainer = Trainer(model, dataset, SGD(), learning_rate=1e-1, num_epochs=150, batch_size=5)\n",
    "\n",
    "# You should expect this to reach 1.0 training accuracy \n",
    "loss_history, train_history, val_history = trainer.fit()"
   ]
  },
  {
   "cell_type": "markdown",
   "metadata": {},
   "source": [
    "Теперь найдем гипепараметры, для которых этот процесс сходится быстрее.\n",
    "Если все реализовано корректно, то существуют параметры, при которых процесс сходится в **20** эпох или еще быстрее.\n",
    "Найдите их!"
   ]
  },
  {
   "cell_type": "code",
   "execution_count": 108,
   "metadata": {
    "ExecuteTime": {
     "end_time": "2020-02-16T10:03:48.361994Z",
     "start_time": "2020-02-16T10:03:47.936597Z"
    }
   },
   "outputs": [
    {
     "name": "stdout",
     "output_type": "stream",
     "text": [
      "Loss: 2.296363, Train accuracy: 0.333333, val accuracy: 0.066667\n",
      "Loss: 2.308457, Train accuracy: 0.200000, val accuracy: 0.066667\n",
      "Loss: 2.179884, Train accuracy: 0.200000, val accuracy: 0.133333\n",
      "Loss: 2.193176, Train accuracy: 0.333333, val accuracy: 0.133333\n",
      "Loss: 2.001866, Train accuracy: 0.333333, val accuracy: 0.066667\n",
      "Loss: 2.287489, Train accuracy: 0.400000, val accuracy: 0.000000\n",
      "Loss: 2.209815, Train accuracy: 0.400000, val accuracy: 0.133333\n",
      "Loss: 1.118182, Train accuracy: 0.533333, val accuracy: 0.000000\n",
      "Loss: 1.869140, Train accuracy: 0.533333, val accuracy: 0.000000\n",
      "Loss: 0.496597, Train accuracy: 0.800000, val accuracy: 0.066667\n",
      "Loss: 0.441766, Train accuracy: 0.800000, val accuracy: 0.000000\n",
      "Loss: 0.725306, Train accuracy: 0.866667, val accuracy: 0.000000\n",
      "Loss: 0.084363, Train accuracy: 0.866667, val accuracy: 0.000000\n",
      "Loss: 0.070534, Train accuracy: 1.000000, val accuracy: 0.000000\n",
      "Loss: 0.261821, Train accuracy: 1.000000, val accuracy: 0.000000\n",
      "Loss: 0.113331, Train accuracy: 1.000000, val accuracy: 0.000000\n",
      "Loss: 0.031755, Train accuracy: 1.000000, val accuracy: 0.000000\n",
      "Loss: 0.043846, Train accuracy: 1.000000, val accuracy: 0.000000\n",
      "Loss: 0.043168, Train accuracy: 1.000000, val accuracy: 0.000000\n",
      "Loss: 0.030597, Train accuracy: 1.000000, val accuracy: 0.000000\n"
     ]
    }
   ],
   "source": [
    "# Now, tweak some hyper parameters and make it train to 1.0 accuracy in 20 epochs or less\n",
    "\n",
    "model = TwoLayerNet(n_input = train_X.shape[1], n_output = 10, hidden_layer_size = 100, reg = 1e-2)\n",
    "dataset = Dataset(train_X[:data_size], train_y[:data_size], val_X[:data_size], val_y[:data_size])\n",
    "# TODO: Change any hyperparamers or optimizators to reach training accuracy in 20 epochs\n",
    "trainer = Trainer(model, dataset, MomentumSGD(0.9), learning_rate=1e-1, num_epochs=20, batch_size=5)\n",
    "\n",
    "loss_history, train_history, val_history = trainer.fit()"
   ]
  },
  {
   "cell_type": "markdown",
   "metadata": {},
   "source": [
    "# Итак, основное мероприятие!\n",
    "\n",
    "Натренируйте лучшую нейросеть! Можно добавлять и изменять параметры, менять количество нейронов в слоях сети и как угодно экспериментировать. \n",
    "\n",
    "Добейтесь точности лучше **60%** на validation set."
   ]
  },
  {
   "cell_type": "code",
   "execution_count": 119,
   "metadata": {
    "ExecuteTime": {
     "end_time": "2020-02-16T10:18:06.586387Z",
     "start_time": "2020-02-16T10:17:52.797849Z"
    },
    "scrolled": true
   },
   "outputs": [
    {
     "name": "stdout",
     "output_type": "stream",
     "text": [
      "Loss: 1.833532, Train accuracy: 0.338667, val accuracy: 0.333000\n",
      "Loss: 1.207839, Train accuracy: 0.597667, val accuracy: 0.583000\n",
      "Loss: 1.218219, Train accuracy: 0.579111, val accuracy: 0.558000\n",
      "Loss: 1.957275, Train accuracy: 0.648667, val accuracy: 0.626000\n",
      "Loss: 1.267391, Train accuracy: 0.651444, val accuracy: 0.617000\n",
      "Loss: 1.112676, Train accuracy: 0.674000, val accuracy: 0.652000\n",
      "Loss: 0.717938, Train accuracy: 0.717889, val accuracy: 0.664000\n",
      "Loss: 1.109754, Train accuracy: 0.768333, val accuracy: 0.715000\n",
      "Loss: 1.078075, Train accuracy: 0.764556, val accuracy: 0.706000\n",
      "Loss: 0.896948, Train accuracy: 0.787889, val accuracy: 0.706000\n",
      "best validation accuracy achieved: 0.706000\n"
     ]
    }
   ],
   "source": [
    "# Let's train the best one-hidden-layer network we can\n",
    "\n",
    "learning_rates = [1e-1]\n",
    "reg_strength = 1e-3\n",
    "learning_rate_decay = 0.9\n",
    "hidden_layer_size = 128\n",
    "num_epochs = 10\n",
    "batch_size = 64\n",
    "\n",
    "best_classifier = None\n",
    "best_val_accuracy = 0\n",
    "\n",
    "loss_history = []\n",
    "train_history = []\n",
    "val_history = []\n",
    "\n",
    "# TODO find the best hyperparameters to train the network\n",
    "# Don't hesitate to add new values to the arrays above, perform experiments, use any tricks you want\n",
    "# You should expect to get to at least 40% of valudation accuracy\n",
    "# Save loss/train/history of the best classifier to the variables above\n",
    "for learning_rate in learning_rates:\n",
    "    model = TwoLayerNet(n_input=train_X.shape[1], n_output=10, hidden_layer_size=hidden_layer_size,\n",
    "                        reg=reg_strength)\n",
    "    dataset = Dataset(train_X, train_y, val_X, val_y)\n",
    "    trainer = Trainer(model, dataset, MomentumSGD(), num_epochs=num_epochs, batch_size=batch_size, \n",
    "                      learning_rate=learning_rate, learning_rate_decay=learning_rate_decay)\n",
    "    loss_history, train_history, val_history = trainer.fit()\n",
    "    if val_history[-1] > best_val_accuracy:\n",
    "        best_val_accuracy = val_history[-1]\n",
    "        best_classifier = trainer.model\n",
    "    \n",
    "\n",
    "print('best validation accuracy achieved: %f' % best_val_accuracy)"
   ]
  },
  {
   "cell_type": "code",
   "execution_count": 120,
   "metadata": {
    "ExecuteTime": {
     "end_time": "2020-02-16T10:18:11.112835Z",
     "start_time": "2020-02-16T10:18:10.863763Z"
    }
   },
   "outputs": [
    {
     "data": {
      "text/plain": [
       "[<matplotlib.lines.Line2D at 0x7f1690103f10>]"
      ]
     },
     "execution_count": 120,
     "metadata": {},
     "output_type": "execute_result"
    },
    {
     "data": {
      "image/png": "[encoded data removed]",
      "text/plain": [
       "<Figure size 1080x504 with 2 Axes>"
      ]
     },
     "metadata": {
      "needs_background": "light"
     },
     "output_type": "display_data"
    }
   ],
   "source": [
    "plt.figure(figsize=(15, 7))\n",
    "plt.subplot(211)\n",
    "plt.title(\"Loss\")\n",
    "plt.plot(loss_history)\n",
    "plt.subplot(212)\n",
    "plt.title(\"Train/validation accuracy\")\n",
    "plt.plot(train_history)\n",
    "plt.plot(val_history)"
   ]
  },
  {
   "cell_type": "markdown",
   "metadata": {},
   "source": [
    "# Как обычно, посмотрим, как наша лучшая модель работает на тестовых данных"
   ]
  },
  {
   "cell_type": "code",
   "execution_count": 121,
   "metadata": {
    "ExecuteTime": {
     "end_time": "2020-02-16T10:18:16.562075Z",
     "start_time": "2020-02-16T10:18:16.362432Z"
    }
   },
   "outputs": [
    {
     "name": "stdout",
     "output_type": "stream",
     "text": [
      "Neural net test set accuracy: 0.676000\n"
     ]
    }
   ],
   "source": [
    "test_pred = best_classifier.predict(test_X)\n",
    "test_accuracy = multiclass_accuracy(test_pred, test_y)\n",
    "print('Neural net test set accuracy: %f' % (test_accuracy, ))"
   ]
  }
 ],
 "metadata": {
  "kernelspec": {
   "display_name": "Python 3",
   "language": "python",
   "name": "python3"
  },
  "language_info": {
   "codemirror_mode": {
    "name": "ipython",
    "version": 3
   },
   "file_extension": ".py",
   "mimetype": "text/x-python",
   "name": "python",
   "nbconvert_exporter": "python",
   "pygments_lexer": "ipython3",
   "version": "3.8.1"
  }
 },
 "nbformat": 4,
 "nbformat_minor": 2
}
